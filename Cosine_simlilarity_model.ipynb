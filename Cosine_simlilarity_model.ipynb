{
 "cells": [
  {
   "cell_type": "markdown",
   "metadata": {
    "id": "YlPqixJQt3ai"
   },
   "source": [
    "# Topic 2: Recommendation System\n",
    "### Demo: Underthesea, Gemsim, Cosin Similarity"
   ]
  },
  {
   "cell_type": "code",
   "execution_count": 1,
   "metadata": {
    "id": "QrOeE0DduQFr"
   },
   "outputs": [],
   "source": [
    "#!pip install pandas==2.2.2\n",
    "#!pip install numpy==1.18.5\n",
    "#pip install gensim\n",
    "#pip install underthesea"
   ]
  },
  {
   "cell_type": "code",
   "execution_count": 2,
   "metadata": {
    "id": "sTLO7wyGt0t0"
   },
   "outputs": [],
   "source": [
    "import numpy as np\n",
    "import pandas as pd\n",
    "import matplotlib.pyplot as plt\n",
    "from sklearn.feature_extraction.text import TfidfVectorizer\n",
    "from sklearn.metrics.pairwise import linear_kernel, cosine_similarity\n",
    "from underthesea import word_tokenize, pos_tag, sent_tokenize\n",
    "import warnings\n",
    "from gensim import corpora, models, similarities\n",
    "import re"
   ]
  },
  {
   "cell_type": "code",
   "execution_count": 3,
   "metadata": {
    "colab": {
     "base_uri": "https://localhost:8080/"
    },
    "id": "cZBqTbC4vXPa",
    "outputId": "8e3fece8-fd64-47ea-ae75-f7d6a1134b74"
   },
   "outputs": [],
   "source": [
    "#from google.colab import drive\n",
    "#drive.mount(\"/content/gdrive\", force_remount=True)"
   ]
  },
  {
   "cell_type": "code",
   "execution_count": 4,
   "metadata": {
    "id": "Tw4PUXAhv13S"
   },
   "outputs": [],
   "source": [
    "# STOP_WORD_FILE = '/content/gdrive/MyDrive/LDS0/Topic_8_2/demo/vietnamese-stopwords.txt'"
   ]
  },
  {
   "cell_type": "code",
   "execution_count": 5,
   "metadata": {},
   "outputs": [],
   "source": [
    "STOP_WORD_FILE = 'vietnamese-stopwords.txt'"
   ]
  },
  {
   "cell_type": "code",
   "execution_count": 6,
   "metadata": {
    "id": "qnWGjZfov3cI"
   },
   "outputs": [],
   "source": [
    "with open(STOP_WORD_FILE, 'r', encoding='utf-8') as file:\n",
    "    stop_words = file.read()\n",
    "\n",
    "stop_words = stop_words.split('\\n')"
   ]
  },
  {
   "cell_type": "markdown",
   "metadata": {
    "id": "lu8DXDJ-wYxT"
   },
   "source": [
    "# Underthesea\n",
    "#### word_tokenize, pos_tag, sent_tokenize\n",
    "- link: https://github.com/undertheseanlp/underthesea"
   ]
  },
  {
   "cell_type": "code",
   "execution_count": 7,
   "metadata": {
    "colab": {
     "base_uri": "https://localhost:8080/",
     "height": 362
    },
    "id": "IuYxKLQk_Oaf",
    "outputId": "d4941793-c96b-4bd1-acfa-5e388a0645db"
   },
   "outputs": [
    {
     "data": {
      "text/html": [
       "<div>\n",
       "<style scoped>\n",
       "    .dataframe tbody tr th:only-of-type {\n",
       "        vertical-align: middle;\n",
       "    }\n",
       "\n",
       "    .dataframe tbody tr th {\n",
       "        vertical-align: top;\n",
       "    }\n",
       "\n",
       "    .dataframe thead th {\n",
       "        text-align: right;\n",
       "    }\n",
       "</style>\n",
       "<table border=\"1\" class=\"dataframe\">\n",
       "  <thead>\n",
       "    <tr style=\"text-align: right;\">\n",
       "      <th></th>\n",
       "      <th>product_id</th>\n",
       "      <th>product_name</th>\n",
       "      <th>category</th>\n",
       "      <th>sub_category</th>\n",
       "      <th>link</th>\n",
       "      <th>image</th>\n",
       "      <th>price</th>\n",
       "      <th>rating</th>\n",
       "      <th>description</th>\n",
       "    </tr>\n",
       "  </thead>\n",
       "  <tbody>\n",
       "    <tr>\n",
       "      <th>0</th>\n",
       "      <td>190</td>\n",
       "      <td>Áo ba lỗ thun gân ,form body tôn dáng</td>\n",
       "      <td>Thời Trang Nam</td>\n",
       "      <td>Áo Ba Lỗ</td>\n",
       "      <td>https://shopee.vn/%C3%81o-ba-l%E1%BB%97-thun-g...</td>\n",
       "      <td>https://cf.shopee.vn/file/2c1ca03f5dc42f316fdf...</td>\n",
       "      <td>86250.0</td>\n",
       "      <td>4.9</td>\n",
       "      <td>Danh Mục\\nShopee\\nThời Trang Nam\\nÁo Ba Lỗ\\nCh...</td>\n",
       "    </tr>\n",
       "    <tr>\n",
       "      <th>1</th>\n",
       "      <td>191</td>\n",
       "      <td>Áo Ba Lỗ Nam Trắng Chất Cotton Siêu Mát, Siêu Đẹp</td>\n",
       "      <td>Thời Trang Nam</td>\n",
       "      <td>Áo Ba Lỗ</td>\n",
       "      <td>https://shopee.vn/%C3%81o-Ba-L%E1%BB%97-Nam-Tr...</td>\n",
       "      <td>https://cf.shopee.vn/file/c7ea4c6574dc79be6b26...</td>\n",
       "      <td>26800.0</td>\n",
       "      <td>4.9</td>\n",
       "      <td>Danh Mục\\nShopee\\nThời Trang Nam\\nÁo Ba Lỗ\\nXu...</td>\n",
       "    </tr>\n",
       "    <tr>\n",
       "      <th>2</th>\n",
       "      <td>192</td>\n",
       "      <td>Áo Ba Lỗ Nam Tyasuo chất vải co dãn mát, không...</td>\n",
       "      <td>Thời Trang Nam</td>\n",
       "      <td>Áo Ba Lỗ</td>\n",
       "      <td>https://shopee.vn/%C3%81o-Ba-L%E1%BB%97-Nam-Ty...</td>\n",
       "      <td>https://cf.shopee.vn/file/6f93bcda10efe374f8cc...</td>\n",
       "      <td>39500.0</td>\n",
       "      <td>4.8</td>\n",
       "      <td>Danh Mục\\nShopee\\nThời Trang Nam\\nÁo Ba Lỗ\\nTh...</td>\n",
       "    </tr>\n",
       "    <tr>\n",
       "      <th>3</th>\n",
       "      <td>193</td>\n",
       "      <td>ÁO BA LỖ HÀNG VIỆT NAM 100% COTTON</td>\n",
       "      <td>Thời Trang Nam</td>\n",
       "      <td>Áo Ba Lỗ</td>\n",
       "      <td>https://shopee.vn/%C3%81O-BA-L%E1%BB%96-H%C3%8...</td>\n",
       "      <td>https://cf.shopee.vn/file/1d7ed5e34bff8bc8b49a...</td>\n",
       "      <td>16500.0</td>\n",
       "      <td>4.8</td>\n",
       "      <td>Danh Mục\\nShopee\\nThời Trang Nam\\nÁo Ba Lỗ\\nCh...</td>\n",
       "    </tr>\n",
       "    <tr>\n",
       "      <th>4</th>\n",
       "      <td>194</td>\n",
       "      <td>Áo Thun Nam Thể Thao Ba Lỗ Mẫu Mới Siêu Đẹp (B...</td>\n",
       "      <td>Thời Trang Nam</td>\n",
       "      <td>Áo Ba Lỗ</td>\n",
       "      <td>https://shopee.vn/%C3%81o-Thun-Nam-Th%E1%BB%83...</td>\n",
       "      <td>NaN</td>\n",
       "      <td>45000.0</td>\n",
       "      <td>4.8</td>\n",
       "      <td>Danh Mục\\nShopee\\nThời Trang Nam\\nÁo Ba Lỗ\\nCh...</td>\n",
       "    </tr>\n",
       "  </tbody>\n",
       "</table>\n",
       "</div>"
      ],
      "text/plain": [
       "   product_id                                       product_name  \\\n",
       "0         190              Áo ba lỗ thun gân ,form body tôn dáng   \n",
       "1         191  Áo Ba Lỗ Nam Trắng Chất Cotton Siêu Mát, Siêu Đẹp   \n",
       "2         192  Áo Ba Lỗ Nam Tyasuo chất vải co dãn mát, không...   \n",
       "3         193                 ÁO BA LỖ HÀNG VIỆT NAM 100% COTTON   \n",
       "4         194  Áo Thun Nam Thể Thao Ba Lỗ Mẫu Mới Siêu Đẹp (B...   \n",
       "\n",
       "         category sub_category  \\\n",
       "0  Thời Trang Nam     Áo Ba Lỗ   \n",
       "1  Thời Trang Nam     Áo Ba Lỗ   \n",
       "2  Thời Trang Nam     Áo Ba Lỗ   \n",
       "3  Thời Trang Nam     Áo Ba Lỗ   \n",
       "4  Thời Trang Nam     Áo Ba Lỗ   \n",
       "\n",
       "                                                link  \\\n",
       "0  https://shopee.vn/%C3%81o-ba-l%E1%BB%97-thun-g...   \n",
       "1  https://shopee.vn/%C3%81o-Ba-L%E1%BB%97-Nam-Tr...   \n",
       "2  https://shopee.vn/%C3%81o-Ba-L%E1%BB%97-Nam-Ty...   \n",
       "3  https://shopee.vn/%C3%81O-BA-L%E1%BB%96-H%C3%8...   \n",
       "4  https://shopee.vn/%C3%81o-Thun-Nam-Th%E1%BB%83...   \n",
       "\n",
       "                                               image    price  rating  \\\n",
       "0  https://cf.shopee.vn/file/2c1ca03f5dc42f316fdf...  86250.0     4.9   \n",
       "1  https://cf.shopee.vn/file/c7ea4c6574dc79be6b26...  26800.0     4.9   \n",
       "2  https://cf.shopee.vn/file/6f93bcda10efe374f8cc...  39500.0     4.8   \n",
       "3  https://cf.shopee.vn/file/1d7ed5e34bff8bc8b49a...  16500.0     4.8   \n",
       "4                                                NaN  45000.0     4.8   \n",
       "\n",
       "                                         description  \n",
       "0  Danh Mục\\nShopee\\nThời Trang Nam\\nÁo Ba Lỗ\\nCh...  \n",
       "1  Danh Mục\\nShopee\\nThời Trang Nam\\nÁo Ba Lỗ\\nXu...  \n",
       "2  Danh Mục\\nShopee\\nThời Trang Nam\\nÁo Ba Lỗ\\nTh...  \n",
       "3  Danh Mục\\nShopee\\nThời Trang Nam\\nÁo Ba Lỗ\\nCh...  \n",
       "4  Danh Mục\\nShopee\\nThời Trang Nam\\nÁo Ba Lỗ\\nCh...  "
      ]
     },
     "execution_count": 7,
     "metadata": {},
     "output_type": "execute_result"
    }
   ],
   "source": [
    "# đọc tập tin sample_products.csv vào df\n",
    "df = pd.read_csv(\"Products_ThoiTrangNam_raw.csv\")\n",
    "df.head()"
   ]
  },
  {
   "cell_type": "code",
   "execution_count": 8,
   "metadata": {
    "colab": {
     "base_uri": "https://localhost:8080/"
    },
    "id": "-mGYSR4Qa4OV",
    "outputId": "746984f5-d70e-435e-b5df-7866810ece81"
   },
   "outputs": [
    {
     "name": "stdout",
     "output_type": "stream",
     "text": [
      "<class 'pandas.core.frame.DataFrame'>\n",
      "RangeIndex: 49663 entries, 0 to 49662\n",
      "Data columns (total 9 columns):\n",
      " #   Column        Non-Null Count  Dtype  \n",
      "---  ------        --------------  -----  \n",
      " 0   product_id    49663 non-null  int64  \n",
      " 1   product_name  49663 non-null  object \n",
      " 2   category      49663 non-null  object \n",
      " 3   sub_category  49663 non-null  object \n",
      " 4   link          49663 non-null  object \n",
      " 5   image         36443 non-null  object \n",
      " 6   price         49663 non-null  float64\n",
      " 7   rating        49663 non-null  float64\n",
      " 8   description   48700 non-null  object \n",
      "dtypes: float64(2), int64(1), object(6)\n",
      "memory usage: 3.4+ MB\n"
     ]
    }
   ],
   "source": [
    "df.info()"
   ]
  },
  {
   "cell_type": "code",
   "execution_count": 9,
   "metadata": {},
   "outputs": [],
   "source": [
    "df = df.dropna(subset='description')"
   ]
  },
  {
   "cell_type": "code",
   "execution_count": 10,
   "metadata": {
    "id": "6WCCNzHXCp_m"
   },
   "outputs": [],
   "source": [
    "import re\n",
    "\n",
    "# Hàm kiểm tra từ có phải là từ tiếng Việt \"sạch\"\n",
    "def is_valid_vietnamese(word):\n",
    "    vietnamese_chars = (\n",
    "        \"a-zA-Z0-9_\"\n",
    "        \"àáạảãâầấậẩẫăằắặẳẵ\"\n",
    "        \"èéẹẻẽêềếệểễ\"\n",
    "        \"ìíịỉĩ\"\n",
    "        \"òóọỏõôồốộổỗơờớợởỡ\"\n",
    "        \"ùúụủũưừứựửữ\"\n",
    "        \"ỳýỵỷỹ\"\n",
    "        \"đ\"\n",
    "        \"ÀÁẠẢÃÂẦẤẬẨẪĂẰẮẶẲẴ\"\n",
    "        \"ÈÉẸẺẼÊỀẾỆỂỄ\"\n",
    "        \"ÌÍỊỈĨ\"\n",
    "        \"ÒÓỌỎÕÔỒỐỘỔỖƠỜỚỢỞỠ\"\n",
    "        \"ÙÚỤỦŨƯỪỨỰỬỮ\"\n",
    "        \"ỲÝỴỶỸ\"\n",
    "        \"Đ\"\n",
    "    )\n",
    "    pattern = f'^[{vietnamese_chars}]+$'\n",
    "    return re.match(pattern, word) is not None"
   ]
  },
  {
   "cell_type": "code",
   "execution_count": 11,
   "metadata": {
    "id": "jtxPaOGbCsCe"
   },
   "outputs": [],
   "source": [
    "# Hàm xử lý một mô tả\n",
    "def filter_vietnamese_words(text):\n",
    "    if not isinstance(text, str):\n",
    "        return ''\n",
    "    words = text.split()\n",
    "    clean_words = [w for w in words if is_valid_vietnamese(w)]\n",
    "    return ' '.join(clean_words)"
   ]
  },
  {
   "cell_type": "code",
   "execution_count": 12,
   "metadata": {
    "colab": {
     "base_uri": "https://localhost:8080/"
    },
    "id": "Re3_vOwTCvbu",
    "outputId": "3eae4eb1-b994-4880-f70f-36b291f711bf"
   },
   "outputs": [
    {
     "name": "stdout",
     "output_type": "stream",
     "text": [
      "                                             description  \\\n",
      "0      Danh Mục\\nShopee\\nThời Trang Nam\\nÁo Ba Lỗ\\nCh...   \n",
      "1      Danh Mục\\nShopee\\nThời Trang Nam\\nÁo Ba Lỗ\\nXu...   \n",
      "2      Danh Mục\\nShopee\\nThời Trang Nam\\nÁo Ba Lỗ\\nTh...   \n",
      "3      Danh Mục\\nShopee\\nThời Trang Nam\\nÁo Ba Lỗ\\nCh...   \n",
      "4      Danh Mục\\nShopee\\nThời Trang Nam\\nÁo Ba Lỗ\\nCh...   \n",
      "...                                                  ...   \n",
      "49658  Danh Mục\\nShopee\\nThời Trang Nam\\nVớ/Tất\\nChiề...   \n",
      "49659  Danh Mục\\nShopee\\nThời Trang Nam\\nVớ/Tất\\nThươ...   \n",
      "49660  Danh Mục\\nShopee\\nThời Trang Nam\\nVớ/Tất\\nChất...   \n",
      "49661  Danh Mục\\nShopee\\nThời Trang Nam\\nVớ/Tất\\nKho ...   \n",
      "49662  Danh Mục\\nShopee\\nThời Trang Nam\\nVớ/Tất\\nXuất...   \n",
      "\n",
      "                                       description_clean  \n",
      "0      Danh Mục Shopee Thời Trang Nam Áo Ba Lỗ Chiều ...  \n",
      "1      Danh Mục Shopee Thời Trang Nam Áo Ba Lỗ Xuất x...  \n",
      "2      Danh Mục Shopee Thời Trang Nam Áo Ba Lỗ Thương...  \n",
      "3      Danh Mục Shopee Thời Trang Nam Áo Ba Lỗ Chất l...  \n",
      "4      Danh Mục Shopee Thời Trang Nam Áo Ba Lỗ Chiều ...  \n",
      "...                                                  ...  \n",
      "49658  Danh Mục Shopee Thời Trang Nam Chiều dài vớ Bắ...  \n",
      "49659  Danh Mục Shopee Thời Trang Nam Thương hiệu Liv...  \n",
      "49660  Danh Mục Shopee Thời Trang Nam Chất liệu Cotto...  \n",
      "49661  Danh Mục Shopee Thời Trang Nam Kho hàng 189 Gử...  \n",
      "49662  Danh Mục Shopee Thời Trang Nam Xuất xứ Việt Na...  \n",
      "\n",
      "[48700 rows x 2 columns]\n"
     ]
    }
   ],
   "source": [
    "# Áp dụng lọc\n",
    "df['description_clean'] = df['description'].apply(filter_vietnamese_words)\n",
    "\n",
    "\n",
    "print(df[['description', 'description_clean']])"
   ]
  },
  {
   "cell_type": "code",
   "execution_count": 13,
   "metadata": {
    "id": "0A5H10qhlnXX"
   },
   "outputs": [],
   "source": [
    "# Tạo nội dung tổng hợp\n",
    "# Lựa chọn các thông tin cần thiết để đưa vào phần content (giúp đề xuất nội dung)\n",
    "# Có thể 1 cột hoặc nhiều cột thông tin\n",
    "df['Content'] = df['product_name'] + ' ' + df['description_clean'].apply(lambda x: ' '.join(x.split()[:100]))"
   ]
  },
  {
   "cell_type": "code",
   "execution_count": 14,
   "metadata": {
    "colab": {
     "base_uri": "https://localhost:8080/",
     "height": 642
    },
    "id": "VmiG7ywB1zXD",
    "outputId": "5197c052-7692-4ba4-9f4f-7e02aa438565"
   },
   "outputs": [
    {
     "data": {
      "text/html": [
       "<div>\n",
       "<style scoped>\n",
       "    .dataframe tbody tr th:only-of-type {\n",
       "        vertical-align: middle;\n",
       "    }\n",
       "\n",
       "    .dataframe tbody tr th {\n",
       "        vertical-align: top;\n",
       "    }\n",
       "\n",
       "    .dataframe thead th {\n",
       "        text-align: right;\n",
       "    }\n",
       "</style>\n",
       "<table border=\"1\" class=\"dataframe\">\n",
       "  <thead>\n",
       "    <tr style=\"text-align: right;\">\n",
       "      <th></th>\n",
       "      <th>product_id</th>\n",
       "      <th>product_name</th>\n",
       "      <th>category</th>\n",
       "      <th>sub_category</th>\n",
       "      <th>link</th>\n",
       "      <th>image</th>\n",
       "      <th>price</th>\n",
       "      <th>rating</th>\n",
       "      <th>description</th>\n",
       "      <th>description_clean</th>\n",
       "      <th>Content</th>\n",
       "    </tr>\n",
       "  </thead>\n",
       "  <tbody>\n",
       "    <tr>\n",
       "      <th>0</th>\n",
       "      <td>190</td>\n",
       "      <td>Áo ba lỗ thun gân ,form body tôn dáng</td>\n",
       "      <td>Thời Trang Nam</td>\n",
       "      <td>Áo Ba Lỗ</td>\n",
       "      <td>https://shopee.vn/%C3%81o-ba-l%E1%BB%97-thun-g...</td>\n",
       "      <td>https://cf.shopee.vn/file/2c1ca03f5dc42f316fdf...</td>\n",
       "      <td>86250.0</td>\n",
       "      <td>4.9</td>\n",
       "      <td>Danh Mục\\nShopee\\nThời Trang Nam\\nÁo Ba Lỗ\\nCh...</td>\n",
       "      <td>Danh Mục Shopee Thời Trang Nam Áo Ba Lỗ Chiều ...</td>\n",
       "      <td>Áo ba lỗ thun gân ,form body tôn dáng Danh Mục...</td>\n",
       "    </tr>\n",
       "    <tr>\n",
       "      <th>1</th>\n",
       "      <td>191</td>\n",
       "      <td>Áo Ba Lỗ Nam Trắng Chất Cotton Siêu Mát, Siêu Đẹp</td>\n",
       "      <td>Thời Trang Nam</td>\n",
       "      <td>Áo Ba Lỗ</td>\n",
       "      <td>https://shopee.vn/%C3%81o-Ba-L%E1%BB%97-Nam-Tr...</td>\n",
       "      <td>https://cf.shopee.vn/file/c7ea4c6574dc79be6b26...</td>\n",
       "      <td>26800.0</td>\n",
       "      <td>4.9</td>\n",
       "      <td>Danh Mục\\nShopee\\nThời Trang Nam\\nÁo Ba Lỗ\\nXu...</td>\n",
       "      <td>Danh Mục Shopee Thời Trang Nam Áo Ba Lỗ Xuất x...</td>\n",
       "      <td>Áo Ba Lỗ Nam Trắng Chất Cotton Siêu Mát, Siêu ...</td>\n",
       "    </tr>\n",
       "    <tr>\n",
       "      <th>2</th>\n",
       "      <td>192</td>\n",
       "      <td>Áo Ba Lỗ Nam Tyasuo chất vải co dãn mát, không...</td>\n",
       "      <td>Thời Trang Nam</td>\n",
       "      <td>Áo Ba Lỗ</td>\n",
       "      <td>https://shopee.vn/%C3%81o-Ba-L%E1%BB%97-Nam-Ty...</td>\n",
       "      <td>https://cf.shopee.vn/file/6f93bcda10efe374f8cc...</td>\n",
       "      <td>39500.0</td>\n",
       "      <td>4.8</td>\n",
       "      <td>Danh Mục\\nShopee\\nThời Trang Nam\\nÁo Ba Lỗ\\nTh...</td>\n",
       "      <td>Danh Mục Shopee Thời Trang Nam Áo Ba Lỗ Thương...</td>\n",
       "      <td>Áo Ba Lỗ Nam Tyasuo chất vải co dãn mát, không...</td>\n",
       "    </tr>\n",
       "    <tr>\n",
       "      <th>3</th>\n",
       "      <td>193</td>\n",
       "      <td>ÁO BA LỖ HÀNG VIỆT NAM 100% COTTON</td>\n",
       "      <td>Thời Trang Nam</td>\n",
       "      <td>Áo Ba Lỗ</td>\n",
       "      <td>https://shopee.vn/%C3%81O-BA-L%E1%BB%96-H%C3%8...</td>\n",
       "      <td>https://cf.shopee.vn/file/1d7ed5e34bff8bc8b49a...</td>\n",
       "      <td>16500.0</td>\n",
       "      <td>4.8</td>\n",
       "      <td>Danh Mục\\nShopee\\nThời Trang Nam\\nÁo Ba Lỗ\\nCh...</td>\n",
       "      <td>Danh Mục Shopee Thời Trang Nam Áo Ba Lỗ Chất l...</td>\n",
       "      <td>ÁO BA LỖ HÀNG VIỆT NAM 100% COTTON Danh Mục Sh...</td>\n",
       "    </tr>\n",
       "    <tr>\n",
       "      <th>4</th>\n",
       "      <td>194</td>\n",
       "      <td>Áo Thun Nam Thể Thao Ba Lỗ Mẫu Mới Siêu Đẹp (B...</td>\n",
       "      <td>Thời Trang Nam</td>\n",
       "      <td>Áo Ba Lỗ</td>\n",
       "      <td>https://shopee.vn/%C3%81o-Thun-Nam-Th%E1%BB%83...</td>\n",
       "      <td>NaN</td>\n",
       "      <td>45000.0</td>\n",
       "      <td>4.8</td>\n",
       "      <td>Danh Mục\\nShopee\\nThời Trang Nam\\nÁo Ba Lỗ\\nCh...</td>\n",
       "      <td>Danh Mục Shopee Thời Trang Nam Áo Ba Lỗ Chiều ...</td>\n",
       "      <td>Áo Thun Nam Thể Thao Ba Lỗ Mẫu Mới Siêu Đẹp (B...</td>\n",
       "    </tr>\n",
       "  </tbody>\n",
       "</table>\n",
       "</div>"
      ],
      "text/plain": [
       "   product_id                                       product_name  \\\n",
       "0         190              Áo ba lỗ thun gân ,form body tôn dáng   \n",
       "1         191  Áo Ba Lỗ Nam Trắng Chất Cotton Siêu Mát, Siêu Đẹp   \n",
       "2         192  Áo Ba Lỗ Nam Tyasuo chất vải co dãn mát, không...   \n",
       "3         193                 ÁO BA LỖ HÀNG VIỆT NAM 100% COTTON   \n",
       "4         194  Áo Thun Nam Thể Thao Ba Lỗ Mẫu Mới Siêu Đẹp (B...   \n",
       "\n",
       "         category sub_category  \\\n",
       "0  Thời Trang Nam     Áo Ba Lỗ   \n",
       "1  Thời Trang Nam     Áo Ba Lỗ   \n",
       "2  Thời Trang Nam     Áo Ba Lỗ   \n",
       "3  Thời Trang Nam     Áo Ba Lỗ   \n",
       "4  Thời Trang Nam     Áo Ba Lỗ   \n",
       "\n",
       "                                                link  \\\n",
       "0  https://shopee.vn/%C3%81o-ba-l%E1%BB%97-thun-g...   \n",
       "1  https://shopee.vn/%C3%81o-Ba-L%E1%BB%97-Nam-Tr...   \n",
       "2  https://shopee.vn/%C3%81o-Ba-L%E1%BB%97-Nam-Ty...   \n",
       "3  https://shopee.vn/%C3%81O-BA-L%E1%BB%96-H%C3%8...   \n",
       "4  https://shopee.vn/%C3%81o-Thun-Nam-Th%E1%BB%83...   \n",
       "\n",
       "                                               image    price  rating  \\\n",
       "0  https://cf.shopee.vn/file/2c1ca03f5dc42f316fdf...  86250.0     4.9   \n",
       "1  https://cf.shopee.vn/file/c7ea4c6574dc79be6b26...  26800.0     4.9   \n",
       "2  https://cf.shopee.vn/file/6f93bcda10efe374f8cc...  39500.0     4.8   \n",
       "3  https://cf.shopee.vn/file/1d7ed5e34bff8bc8b49a...  16500.0     4.8   \n",
       "4                                                NaN  45000.0     4.8   \n",
       "\n",
       "                                         description  \\\n",
       "0  Danh Mục\\nShopee\\nThời Trang Nam\\nÁo Ba Lỗ\\nCh...   \n",
       "1  Danh Mục\\nShopee\\nThời Trang Nam\\nÁo Ba Lỗ\\nXu...   \n",
       "2  Danh Mục\\nShopee\\nThời Trang Nam\\nÁo Ba Lỗ\\nTh...   \n",
       "3  Danh Mục\\nShopee\\nThời Trang Nam\\nÁo Ba Lỗ\\nCh...   \n",
       "4  Danh Mục\\nShopee\\nThời Trang Nam\\nÁo Ba Lỗ\\nCh...   \n",
       "\n",
       "                                   description_clean  \\\n",
       "0  Danh Mục Shopee Thời Trang Nam Áo Ba Lỗ Chiều ...   \n",
       "1  Danh Mục Shopee Thời Trang Nam Áo Ba Lỗ Xuất x...   \n",
       "2  Danh Mục Shopee Thời Trang Nam Áo Ba Lỗ Thương...   \n",
       "3  Danh Mục Shopee Thời Trang Nam Áo Ba Lỗ Chất l...   \n",
       "4  Danh Mục Shopee Thời Trang Nam Áo Ba Lỗ Chiều ...   \n",
       "\n",
       "                                             Content  \n",
       "0  Áo ba lỗ thun gân ,form body tôn dáng Danh Mục...  \n",
       "1  Áo Ba Lỗ Nam Trắng Chất Cotton Siêu Mát, Siêu ...  \n",
       "2  Áo Ba Lỗ Nam Tyasuo chất vải co dãn mát, không...  \n",
       "3  ÁO BA LỖ HÀNG VIỆT NAM 100% COTTON Danh Mục Sh...  \n",
       "4  Áo Thun Nam Thể Thao Ba Lỗ Mẫu Mới Siêu Đẹp (B...  "
      ]
     },
     "execution_count": 14,
     "metadata": {},
     "output_type": "execute_result"
    }
   ],
   "source": [
    "df.head()"
   ]
  },
  {
   "cell_type": "code",
   "execution_count": 15,
   "metadata": {
    "id": "VLD-LUBJ1Pos"
   },
   "outputs": [],
   "source": [
    "# word_tokenize\n",
    "df[\"Content_wt\"]=df[\"Content\"].apply(lambda x: word_tokenize(x, format=\"text\"))"
   ]
  },
  {
   "cell_type": "code",
   "execution_count": 16,
   "metadata": {
    "colab": {
     "base_uri": "https://localhost:8080/",
     "height": 206
    },
    "id": "2WVOyuyZ2TTq",
    "outputId": "68d6d140-71d6-4a7a-a536-a261848d90b4"
   },
   "outputs": [
    {
     "data": {
      "text/html": [
       "<div>\n",
       "<style scoped>\n",
       "    .dataframe tbody tr th:only-of-type {\n",
       "        vertical-align: middle;\n",
       "    }\n",
       "\n",
       "    .dataframe tbody tr th {\n",
       "        vertical-align: top;\n",
       "    }\n",
       "\n",
       "    .dataframe thead th {\n",
       "        text-align: right;\n",
       "    }\n",
       "</style>\n",
       "<table border=\"1\" class=\"dataframe\">\n",
       "  <thead>\n",
       "    <tr style=\"text-align: right;\">\n",
       "      <th></th>\n",
       "      <th>Content</th>\n",
       "      <th>Content_wt</th>\n",
       "    </tr>\n",
       "  </thead>\n",
       "  <tbody>\n",
       "    <tr>\n",
       "      <th>0</th>\n",
       "      <td>Áo ba lỗ thun gân ,form body tôn dáng Danh Mục...</td>\n",
       "      <td>Áo ba lỗ thun gân , form body tôn_dáng Danh_Mụ...</td>\n",
       "    </tr>\n",
       "    <tr>\n",
       "      <th>1</th>\n",
       "      <td>Áo Ba Lỗ Nam Trắng Chất Cotton Siêu Mát, Siêu ...</td>\n",
       "      <td>Áo Ba_Lỗ Nam_Trắng Chất_Cotton Siêu_Mát , Siêu...</td>\n",
       "    </tr>\n",
       "    <tr>\n",
       "      <th>2</th>\n",
       "      <td>Áo Ba Lỗ Nam Tyasuo chất vải co dãn mát, không...</td>\n",
       "      <td>Áo Ba_Lỗ Nam_Tyasuo chất vải co_dãn mát , khôn...</td>\n",
       "    </tr>\n",
       "    <tr>\n",
       "      <th>3</th>\n",
       "      <td>ÁO BA LỖ HÀNG VIỆT NAM 100% COTTON Danh Mục Sh...</td>\n",
       "      <td>ÁO BA_LỖ HÀNG_VIỆT_NAM 100 % COTTON Danh_Mục S...</td>\n",
       "    </tr>\n",
       "    <tr>\n",
       "      <th>4</th>\n",
       "      <td>Áo Thun Nam Thể Thao Ba Lỗ Mẫu Mới Siêu Đẹp (B...</td>\n",
       "      <td>Áo Thun_Nam Thể_Thao Ba_Lỗ Mẫu_Mới Siêu_Đẹp ( ...</td>\n",
       "    </tr>\n",
       "  </tbody>\n",
       "</table>\n",
       "</div>"
      ],
      "text/plain": [
       "                                             Content  \\\n",
       "0  Áo ba lỗ thun gân ,form body tôn dáng Danh Mục...   \n",
       "1  Áo Ba Lỗ Nam Trắng Chất Cotton Siêu Mát, Siêu ...   \n",
       "2  Áo Ba Lỗ Nam Tyasuo chất vải co dãn mát, không...   \n",
       "3  ÁO BA LỖ HÀNG VIỆT NAM 100% COTTON Danh Mục Sh...   \n",
       "4  Áo Thun Nam Thể Thao Ba Lỗ Mẫu Mới Siêu Đẹp (B...   \n",
       "\n",
       "                                          Content_wt  \n",
       "0  Áo ba lỗ thun gân , form body tôn_dáng Danh_Mụ...  \n",
       "1  Áo Ba_Lỗ Nam_Trắng Chất_Cotton Siêu_Mát , Siêu...  \n",
       "2  Áo Ba_Lỗ Nam_Tyasuo chất vải co_dãn mát , khôn...  \n",
       "3  ÁO BA_LỖ HÀNG_VIỆT_NAM 100 % COTTON Danh_Mục S...  \n",
       "4  Áo Thun_Nam Thể_Thao Ba_Lỗ Mẫu_Mới Siêu_Đẹp ( ...  "
      ]
     },
     "execution_count": 16,
     "metadata": {},
     "output_type": "execute_result"
    }
   ],
   "source": [
    "df[[\"Content\", \"Content_wt\"]].head()"
   ]
  },
  {
   "cell_type": "code",
   "execution_count": 17,
   "metadata": {
    "id": "KnxEZOjLBfqu"
   },
   "outputs": [],
   "source": [
    "# chuẩn hóa Content_wt chỉ lấy word có nghĩa\n",
    "df[\"Content_wt\"]=df[\"Content_wt\"].apply(lambda x: ' '.join([word for word in x.split() if not word in stop_words]))"
   ]
  },
  {
   "cell_type": "markdown",
   "metadata": {
    "id": "bRLniR9_-54G"
   },
   "source": [
    "# Cosine_similarity\n",
    "- link https://scikit-learn.org/stable/modules/generated/sklearn.metrics.pairwise.cosine_similarity.html\n",
    "- link https://en.wikipedia.org/wiki/Cosine_similarity\n",
    "![image.png](data:image/png;base64,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)"
   ]
  },
  {
   "cell_type": "code",
   "execution_count": 18,
   "metadata": {
    "colab": {
     "base_uri": "https://localhost:8080/"
    },
    "id": "BCJTrUHlg9Su",
    "outputId": "e6742c7a-8a19-40bf-a4f7-29881f2805e6"
   },
   "outputs": [
    {
     "name": "stdout",
     "output_type": "stream",
     "text": [
      "0.9486832980505138\n"
     ]
    }
   ],
   "source": [
    "from numpy import dot\n",
    "from numpy.linalg import norm\n",
    "A = [1,2]\n",
    "B = [2,2]\n",
    "cos_sim = dot(A,B) / (norm(A)*norm(B))\n",
    "print(cos_sim)"
   ]
  },
  {
   "cell_type": "code",
   "execution_count": 19,
   "metadata": {},
   "outputs": [
    {
     "data": {
      "text/plain": [
       "0        Áo ba lỗ thun gân , form body tôn_dáng Danh_Mụ...\n",
       "1        Áo Ba_Lỗ Nam_Trắng Chất_Cotton Siêu_Mát , Siêu...\n",
       "2        Áo Ba_Lỗ Nam_Tyasuo chất vải , không xù , mịn ...\n",
       "3        ÁO BA_LỖ HÀNG_VIỆT_NAM 100 % COTTON Danh_Mục S...\n",
       "4        Áo Thun_Nam Thể_Thao Ba_Lỗ Mẫu_Mới Siêu_Đẹp ( ...\n",
       "                               ...                        \n",
       "49658    Tất_vớ nam cổ cao_cấp , tất_vớ giày công_sở , ...\n",
       "49659    Tất_Nam Livan_Sport Chất_Liệu Bamboo_Kháng_Khu...\n",
       "49660    Combo 3 Đôi_Tất ( Vớ ) Hài_Chống Hôi_Chân Uni ...\n",
       "49661    Hộp 10 đôi tất chống hôi chân_nam Danh_Mục Sho...\n",
       "49662    Combo 5 đôi tất_nam_nữ cao_cấp không hôi_chân ...\n",
       "Name: Content_wt, Length: 48700, dtype: object"
      ]
     },
     "execution_count": 19,
     "metadata": {},
     "output_type": "execute_result"
    }
   ],
   "source": [
    "df['Content_wt']"
   ]
  },
  {
   "cell_type": "code",
   "execution_count": 20,
   "metadata": {},
   "outputs": [],
   "source": [
    "import pandas as pd\n",
    "from sklearn.feature_extraction.text import TfidfVectorizer\n",
    "from sklearn.metrics.pairwise import cosine_similarity\n",
    "\n",
    "# Vector hóa nội dung\n",
    "vectorizer = TfidfVectorizer(analyzer='word', stop_words=stop_words)\n",
    "tfidf_matrix = vectorizer.fit_transform(df['Content_wt'])"
   ]
  },
  {
   "cell_type": "code",
   "execution_count": 21,
   "metadata": {},
   "outputs": [],
   "source": [
    "from sklearn.metrics.pairwise import cosine_similarity\n",
    "\n",
    "def batched_cosine_similarity(matrix, batch_size=1000):\n",
    "    n = matrix.shape[0]\n",
    "    result = []\n",
    "    for start in range(0, n, batch_size):\n",
    "        end = min(start + batch_size, n)\n",
    "        sim_batch = cosine_similarity(matrix[start:end], matrix)\n",
    "        result.append(sim_batch)\n",
    "    return result"
   ]
  },
  {
   "cell_type": "code",
   "execution_count": 22,
   "metadata": {},
   "outputs": [],
   "source": [
    "cosine_sim = batched_cosine_similarity(tfidf_matrix, batch_size=1000)"
   ]
  },
  {
   "cell_type": "code",
   "execution_count": 23,
   "metadata": {},
   "outputs": [
    {
     "data": {
      "text/html": [
       "<div>\n",
       "<style scoped>\n",
       "    .dataframe tbody tr th:only-of-type {\n",
       "        vertical-align: middle;\n",
       "    }\n",
       "\n",
       "    .dataframe tbody tr th {\n",
       "        vertical-align: top;\n",
       "    }\n",
       "\n",
       "    .dataframe thead th {\n",
       "        text-align: right;\n",
       "    }\n",
       "</style>\n",
       "<table border=\"1\" class=\"dataframe\">\n",
       "  <thead>\n",
       "    <tr style=\"text-align: right;\">\n",
       "      <th></th>\n",
       "      <th>0</th>\n",
       "      <th>1</th>\n",
       "      <th>2</th>\n",
       "      <th>3</th>\n",
       "      <th>4</th>\n",
       "      <th>5</th>\n",
       "      <th>6</th>\n",
       "      <th>7</th>\n",
       "      <th>8</th>\n",
       "      <th>9</th>\n",
       "      <th>...</th>\n",
       "      <th>48690</th>\n",
       "      <th>48691</th>\n",
       "      <th>48692</th>\n",
       "      <th>48693</th>\n",
       "      <th>48694</th>\n",
       "      <th>48695</th>\n",
       "      <th>48696</th>\n",
       "      <th>48697</th>\n",
       "      <th>48698</th>\n",
       "      <th>48699</th>\n",
       "    </tr>\n",
       "  </thead>\n",
       "  <tbody>\n",
       "    <tr>\n",
       "      <th>0</th>\n",
       "      <td>1.000000</td>\n",
       "      <td>0.074751</td>\n",
       "      <td>0.128363</td>\n",
       "      <td>0.099168</td>\n",
       "      <td>0.167026</td>\n",
       "      <td>0.075357</td>\n",
       "      <td>0.135691</td>\n",
       "      <td>0.202086</td>\n",
       "      <td>0.055623</td>\n",
       "      <td>0.069899</td>\n",
       "      <td>...</td>\n",
       "      <td>0.007303</td>\n",
       "      <td>0.014106</td>\n",
       "      <td>0.024540</td>\n",
       "      <td>0.007192</td>\n",
       "      <td>0.003871</td>\n",
       "      <td>0.012824</td>\n",
       "      <td>0.018702</td>\n",
       "      <td>0.007470</td>\n",
       "      <td>0.009845</td>\n",
       "      <td>0.017555</td>\n",
       "    </tr>\n",
       "    <tr>\n",
       "      <th>1</th>\n",
       "      <td>0.074751</td>\n",
       "      <td>1.000000</td>\n",
       "      <td>0.194111</td>\n",
       "      <td>0.167028</td>\n",
       "      <td>0.149987</td>\n",
       "      <td>0.227891</td>\n",
       "      <td>0.071826</td>\n",
       "      <td>0.105311</td>\n",
       "      <td>0.135299</td>\n",
       "      <td>0.142727</td>\n",
       "      <td>...</td>\n",
       "      <td>0.053938</td>\n",
       "      <td>0.095120</td>\n",
       "      <td>0.101018</td>\n",
       "      <td>0.003904</td>\n",
       "      <td>0.021948</td>\n",
       "      <td>0.018643</td>\n",
       "      <td>0.022922</td>\n",
       "      <td>0.049057</td>\n",
       "      <td>0.089424</td>\n",
       "      <td>0.052383</td>\n",
       "    </tr>\n",
       "    <tr>\n",
       "      <th>2</th>\n",
       "      <td>0.128363</td>\n",
       "      <td>0.194111</td>\n",
       "      <td>1.000000</td>\n",
       "      <td>0.133497</td>\n",
       "      <td>0.125273</td>\n",
       "      <td>0.138858</td>\n",
       "      <td>0.125150</td>\n",
       "      <td>0.089825</td>\n",
       "      <td>0.054536</td>\n",
       "      <td>0.109285</td>\n",
       "      <td>...</td>\n",
       "      <td>0.051549</td>\n",
       "      <td>0.092895</td>\n",
       "      <td>0.110358</td>\n",
       "      <td>0.003850</td>\n",
       "      <td>0.060555</td>\n",
       "      <td>0.027544</td>\n",
       "      <td>0.018072</td>\n",
       "      <td>0.010781</td>\n",
       "      <td>0.027895</td>\n",
       "      <td>0.023343</td>\n",
       "    </tr>\n",
       "    <tr>\n",
       "      <th>3</th>\n",
       "      <td>0.099168</td>\n",
       "      <td>0.167028</td>\n",
       "      <td>0.133497</td>\n",
       "      <td>1.000000</td>\n",
       "      <td>0.147348</td>\n",
       "      <td>0.079162</td>\n",
       "      <td>0.093498</td>\n",
       "      <td>0.145545</td>\n",
       "      <td>0.128600</td>\n",
       "      <td>0.141995</td>\n",
       "      <td>...</td>\n",
       "      <td>0.014182</td>\n",
       "      <td>0.016421</td>\n",
       "      <td>0.018288</td>\n",
       "      <td>0.017724</td>\n",
       "      <td>0.021115</td>\n",
       "      <td>0.041895</td>\n",
       "      <td>0.014016</td>\n",
       "      <td>0.012056</td>\n",
       "      <td>0.044615</td>\n",
       "      <td>0.035850</td>\n",
       "    </tr>\n",
       "    <tr>\n",
       "      <th>4</th>\n",
       "      <td>0.167026</td>\n",
       "      <td>0.149987</td>\n",
       "      <td>0.125273</td>\n",
       "      <td>0.147348</td>\n",
       "      <td>1.000000</td>\n",
       "      <td>0.097493</td>\n",
       "      <td>0.121357</td>\n",
       "      <td>0.265976</td>\n",
       "      <td>0.067144</td>\n",
       "      <td>0.147222</td>\n",
       "      <td>...</td>\n",
       "      <td>0.022485</td>\n",
       "      <td>0.011146</td>\n",
       "      <td>0.016405</td>\n",
       "      <td>0.010896</td>\n",
       "      <td>0.014267</td>\n",
       "      <td>0.039471</td>\n",
       "      <td>0.014813</td>\n",
       "      <td>0.030127</td>\n",
       "      <td>0.029879</td>\n",
       "      <td>0.045536</td>\n",
       "    </tr>\n",
       "  </tbody>\n",
       "</table>\n",
       "<p>5 rows × 48700 columns</p>\n",
       "</div>"
      ],
      "text/plain": [
       "      0         1         2         3         4         5         6      \\\n",
       "0  1.000000  0.074751  0.128363  0.099168  0.167026  0.075357  0.135691   \n",
       "1  0.074751  1.000000  0.194111  0.167028  0.149987  0.227891  0.071826   \n",
       "2  0.128363  0.194111  1.000000  0.133497  0.125273  0.138858  0.125150   \n",
       "3  0.099168  0.167028  0.133497  1.000000  0.147348  0.079162  0.093498   \n",
       "4  0.167026  0.149987  0.125273  0.147348  1.000000  0.097493  0.121357   \n",
       "\n",
       "      7         8         9      ...     48690     48691     48692     48693  \\\n",
       "0  0.202086  0.055623  0.069899  ...  0.007303  0.014106  0.024540  0.007192   \n",
       "1  0.105311  0.135299  0.142727  ...  0.053938  0.095120  0.101018  0.003904   \n",
       "2  0.089825  0.054536  0.109285  ...  0.051549  0.092895  0.110358  0.003850   \n",
       "3  0.145545  0.128600  0.141995  ...  0.014182  0.016421  0.018288  0.017724   \n",
       "4  0.265976  0.067144  0.147222  ...  0.022485  0.011146  0.016405  0.010896   \n",
       "\n",
       "      48694     48695     48696     48697     48698     48699  \n",
       "0  0.003871  0.012824  0.018702  0.007470  0.009845  0.017555  \n",
       "1  0.021948  0.018643  0.022922  0.049057  0.089424  0.052383  \n",
       "2  0.060555  0.027544  0.018072  0.010781  0.027895  0.023343  \n",
       "3  0.021115  0.041895  0.014016  0.012056  0.044615  0.035850  \n",
       "4  0.014267  0.039471  0.014813  0.030127  0.029879  0.045536  \n",
       "\n",
       "[5 rows x 48700 columns]"
      ]
     },
     "execution_count": 23,
     "metadata": {},
     "output_type": "execute_result"
    }
   ],
   "source": [
    "# Gộp các batch lại thành ma trận 2D\n",
    "cosine_sim_matrix = np.vstack(cosine_sim)\n",
    "\n",
    "# Tạo DataFrame\n",
    "df_show = pd.DataFrame(cosine_sim_matrix)\n",
    "\n",
    "# Xem kết quả\n",
    "df_show.head()"
   ]
  },
  {
   "cell_type": "code",
   "execution_count": 24,
   "metadata": {
    "id": "nGrO8x6upIJU"
   },
   "outputs": [],
   "source": [
    "# Hàm đề xuất sản phẩm\n",
    "# # với mỗi sản phẩm, lấy nums sản phẩm tương quan nhất\n",
    "def get_recommendations(id, cosine_sim=cosine_sim, nums=5):\n",
    "    idx = df.index[df['product_id'] == id][0]\n",
    "    sim_scores = list(enumerate(cosine_sim[idx]))\n",
    "    sim_scores = sorted(sim_scores, key=lambda x: x[1], reverse=True)\n",
    "    sim_scores = sim_scores[1:nums+1]  # Lấy nums sp tương tự nhất\n",
    "    product_indices = [i[0] for i in sim_scores]\n",
    "    return df['product_name'].iloc[product_indices]"
   ]
  },
  {
   "cell_type": "code",
   "execution_count": 25,
   "metadata": {},
   "outputs": [
    {
     "name": "stdout",
     "output_type": "stream",
     "text": [
      "28626    [Liên hệ trước khi đặt] Quần Short Kaki unisex...\n",
      "6400     Áo sơ mi nam dài tay Hàn Quốc vải lụa thái chố...\n",
      "1043     Áo ba lỗ nam thun cotton - Áo sát nách nam tan...\n",
      "29966         SET BỘ ĐI CHÙA CỔ THIỀN CÓ THÊU (Có Bigsize)\n",
      "253      Áo ba lỗ nam thun cotton - Áo sát nách nam tan...\n",
      "Name: product_name, dtype: object\n"
     ]
    }
   ],
   "source": [
    "# Gọi function\n",
    "recommendations = get_recommendations(190,cosine_sim_matrix,5)\n",
    "print(recommendations)"
   ]
  },
  {
   "cell_type": "code",
   "execution_count": 27,
   "metadata": {},
   "outputs": [],
   "source": [
    "import numpy as np\n",
    "import os\n",
    "\n",
    "os.makedirs(\"cosine_batches\", exist_ok=True)\n",
    "\n",
    "batch_size = 1000\n",
    "n = cosine_sim_matrix.shape[0]\n",
    "\n",
    "for i in range(0, n, batch_size):\n",
    "    batch = cosine_sim_matrix[i:i + batch_size]\n",
    "    np.save(f\"cosine_batches/cosine_batch_{i // batch_size}.npy\", batch)"
   ]
  },
  {
   "cell_type": "code",
   "execution_count": 28,
   "metadata": {},
   "outputs": [],
   "source": [
    "def load_cosine_batch(index, batch_size=1000):\n",
    "    batch_file = f\"cosine_batches/cosine_batch_{index // batch_size}.npy\"\n",
    "    batch = np.load(batch_file)\n",
    "    row_index = index % batch_size\n",
    "    return batch[row_index]"
   ]
  },
  {
   "cell_type": "code",
   "execution_count": 30,
   "metadata": {},
   "outputs": [
    {
     "name": "stdout",
     "output_type": "stream",
     "text": [
      "[ 741  983  644 1204 1197 1078  641 1219  638  632]\n"
     ]
    }
   ],
   "source": [
    "similarities = load_cosine_batch(190)  # 1D array\n",
    "top10_idx = similarities.argsort()[-11:-1][::-1]\n",
    "print(top10_idx)"
   ]
  },
  {
   "cell_type": "code",
   "execution_count": null,
   "metadata": {},
   "outputs": [],
   "source": []
  },
  {
   "cell_type": "code",
   "execution_count": 31,
   "metadata": {},
   "outputs": [],
   "source": [
    "def get_recommendations(df, ma_san_pham, cosine_sim=cosine_sim, nums=5):\n",
    "    # Get the index of the hotel that matches the hotel_id\n",
    "    matching_indices = df.index[df['ma_san_pham'] == ma_san_pham].tolist()\n",
    "    if not matching_indices:\n",
    "        print(f\"No hotel found with ID: {ma_san_pham}\")\n",
    "        return pd.DataFrame()  # Return an empty DataFrame if no match\n",
    "    idx = matching_indices[0]\n",
    "\n",
    "    # Get the pairwise similarity scores of all hotels with that hotel\n",
    "    sim_scores = list(enumerate(cosine_sim[idx]))\n",
    "\n",
    "    # Sort the hotels based on the similarity scores\n",
    "    sim_scores = sorted(sim_scores, key=lambda x: x[1], reverse=True)\n",
    "\n",
    "    # Get the scores of the 10 most similar hotels (Ignoring the hotel itself)\n",
    "    sim_scores = sim_scores[1:nums+1]\n",
    "\n",
    "    # Get the hotel indices\n",
    "    product_indices = [i[0] for i in sim_scores]\n",
    "\n",
    "    # Return the top n most similar hotels as a DataFrame\n",
    "    return df.iloc[product_indices]"
   ]
  },
  {
   "cell_type": "code",
   "execution_count": 33,
   "metadata": {},
   "outputs": [
    {
     "ename": "KeyError",
     "evalue": "'ma_san_pham'",
     "output_type": "error",
     "traceback": [
      "\u001b[1;31m---------------------------------------------------------------------------\u001b[0m",
      "\u001b[1;31mKeyError\u001b[0m                                  Traceback (most recent call last)",
      "File \u001b[1;32m~\\AppData\\Local\\Programs\\Python\\Python310\\lib\\site-packages\\pandas\\core\\indexes\\base.py:3805\u001b[0m, in \u001b[0;36mIndex.get_loc\u001b[1;34m(self, key)\u001b[0m\n\u001b[0;32m   3804\u001b[0m \u001b[38;5;28;01mtry\u001b[39;00m:\n\u001b[1;32m-> 3805\u001b[0m     \u001b[38;5;28;01mreturn\u001b[39;00m \u001b[38;5;28;43mself\u001b[39;49m\u001b[38;5;241;43m.\u001b[39;49m\u001b[43m_engine\u001b[49m\u001b[38;5;241;43m.\u001b[39;49m\u001b[43mget_loc\u001b[49m\u001b[43m(\u001b[49m\u001b[43mcasted_key\u001b[49m\u001b[43m)\u001b[49m\n\u001b[0;32m   3806\u001b[0m \u001b[38;5;28;01mexcept\u001b[39;00m \u001b[38;5;167;01mKeyError\u001b[39;00m \u001b[38;5;28;01mas\u001b[39;00m err:\n",
      "File \u001b[1;32mindex.pyx:167\u001b[0m, in \u001b[0;36mpandas._libs.index.IndexEngine.get_loc\u001b[1;34m()\u001b[0m\n",
      "File \u001b[1;32mindex.pyx:196\u001b[0m, in \u001b[0;36mpandas._libs.index.IndexEngine.get_loc\u001b[1;34m()\u001b[0m\n",
      "File \u001b[1;32mpandas\\\\_libs\\\\hashtable_class_helper.pxi:7081\u001b[0m, in \u001b[0;36mpandas._libs.hashtable.PyObjectHashTable.get_item\u001b[1;34m()\u001b[0m\n",
      "File \u001b[1;32mpandas\\\\_libs\\\\hashtable_class_helper.pxi:7089\u001b[0m, in \u001b[0;36mpandas._libs.hashtable.PyObjectHashTable.get_item\u001b[1;34m()\u001b[0m\n",
      "\u001b[1;31mKeyError\u001b[0m: 'ma_san_pham'",
      "\nThe above exception was the direct cause of the following exception:\n",
      "\u001b[1;31mKeyError\u001b[0m                                  Traceback (most recent call last)",
      "Cell \u001b[1;32mIn[33], line 2\u001b[0m\n\u001b[0;32m      1\u001b[0m \u001b[38;5;66;03m# Example usage (make sure to use a valid ma_san_pham from your DataFrame)\u001b[39;00m\n\u001b[1;32m----> 2\u001b[0m recommendations \u001b[38;5;241m=\u001b[39m \u001b[43mget_recommendations\u001b[49m\u001b[43m(\u001b[49m\u001b[43mdf\u001b[49m\u001b[43m,\u001b[49m\u001b[43m \u001b[49m\u001b[38;5;241;43m190\u001b[39;49m\u001b[43m,\u001b[49m\u001b[43m \u001b[49m\u001b[43mcosine_sim\u001b[49m\u001b[38;5;241;43m=\u001b[39;49m\u001b[43msimilarities\u001b[49m\u001b[43m,\u001b[49m\u001b[43m \u001b[49m\u001b[43mnums\u001b[49m\u001b[38;5;241;43m=\u001b[39;49m\u001b[38;5;241;43m3\u001b[39;49m\u001b[43m)\u001b[49m\n\u001b[0;32m      3\u001b[0m recommendations\n",
      "Cell \u001b[1;32mIn[31], line 3\u001b[0m, in \u001b[0;36mget_recommendations\u001b[1;34m(df, ma_san_pham, cosine_sim, nums)\u001b[0m\n\u001b[0;32m      1\u001b[0m \u001b[38;5;28;01mdef\u001b[39;00m\u001b[38;5;250m \u001b[39m\u001b[38;5;21mget_recommendations\u001b[39m(df, ma_san_pham, cosine_sim\u001b[38;5;241m=\u001b[39mcosine_sim, nums\u001b[38;5;241m=\u001b[39m\u001b[38;5;241m5\u001b[39m):\n\u001b[0;32m      2\u001b[0m     \u001b[38;5;66;03m# Get the index of the hotel that matches the hotel_id\u001b[39;00m\n\u001b[1;32m----> 3\u001b[0m     matching_indices \u001b[38;5;241m=\u001b[39m df\u001b[38;5;241m.\u001b[39mindex[\u001b[43mdf\u001b[49m\u001b[43m[\u001b[49m\u001b[38;5;124;43m'\u001b[39;49m\u001b[38;5;124;43mma_san_pham\u001b[39;49m\u001b[38;5;124;43m'\u001b[39;49m\u001b[43m]\u001b[49m \u001b[38;5;241m==\u001b[39m ma_san_pham]\u001b[38;5;241m.\u001b[39mtolist()\n\u001b[0;32m      4\u001b[0m     \u001b[38;5;28;01mif\u001b[39;00m \u001b[38;5;129;01mnot\u001b[39;00m matching_indices:\n\u001b[0;32m      5\u001b[0m         \u001b[38;5;28mprint\u001b[39m(\u001b[38;5;124mf\u001b[39m\u001b[38;5;124m\"\u001b[39m\u001b[38;5;124mNo hotel found with ID: \u001b[39m\u001b[38;5;132;01m{\u001b[39;00mma_san_pham\u001b[38;5;132;01m}\u001b[39;00m\u001b[38;5;124m\"\u001b[39m)\n",
      "File \u001b[1;32m~\\AppData\\Local\\Programs\\Python\\Python310\\lib\\site-packages\\pandas\\core\\frame.py:4102\u001b[0m, in \u001b[0;36mDataFrame.__getitem__\u001b[1;34m(self, key)\u001b[0m\n\u001b[0;32m   4100\u001b[0m \u001b[38;5;28;01mif\u001b[39;00m \u001b[38;5;28mself\u001b[39m\u001b[38;5;241m.\u001b[39mcolumns\u001b[38;5;241m.\u001b[39mnlevels \u001b[38;5;241m>\u001b[39m \u001b[38;5;241m1\u001b[39m:\n\u001b[0;32m   4101\u001b[0m     \u001b[38;5;28;01mreturn\u001b[39;00m \u001b[38;5;28mself\u001b[39m\u001b[38;5;241m.\u001b[39m_getitem_multilevel(key)\n\u001b[1;32m-> 4102\u001b[0m indexer \u001b[38;5;241m=\u001b[39m \u001b[38;5;28;43mself\u001b[39;49m\u001b[38;5;241;43m.\u001b[39;49m\u001b[43mcolumns\u001b[49m\u001b[38;5;241;43m.\u001b[39;49m\u001b[43mget_loc\u001b[49m\u001b[43m(\u001b[49m\u001b[43mkey\u001b[49m\u001b[43m)\u001b[49m\n\u001b[0;32m   4103\u001b[0m \u001b[38;5;28;01mif\u001b[39;00m is_integer(indexer):\n\u001b[0;32m   4104\u001b[0m     indexer \u001b[38;5;241m=\u001b[39m [indexer]\n",
      "File \u001b[1;32m~\\AppData\\Local\\Programs\\Python\\Python310\\lib\\site-packages\\pandas\\core\\indexes\\base.py:3812\u001b[0m, in \u001b[0;36mIndex.get_loc\u001b[1;34m(self, key)\u001b[0m\n\u001b[0;32m   3807\u001b[0m     \u001b[38;5;28;01mif\u001b[39;00m \u001b[38;5;28misinstance\u001b[39m(casted_key, \u001b[38;5;28mslice\u001b[39m) \u001b[38;5;129;01mor\u001b[39;00m (\n\u001b[0;32m   3808\u001b[0m         \u001b[38;5;28misinstance\u001b[39m(casted_key, abc\u001b[38;5;241m.\u001b[39mIterable)\n\u001b[0;32m   3809\u001b[0m         \u001b[38;5;129;01mand\u001b[39;00m \u001b[38;5;28many\u001b[39m(\u001b[38;5;28misinstance\u001b[39m(x, \u001b[38;5;28mslice\u001b[39m) \u001b[38;5;28;01mfor\u001b[39;00m x \u001b[38;5;129;01min\u001b[39;00m casted_key)\n\u001b[0;32m   3810\u001b[0m     ):\n\u001b[0;32m   3811\u001b[0m         \u001b[38;5;28;01mraise\u001b[39;00m InvalidIndexError(key)\n\u001b[1;32m-> 3812\u001b[0m     \u001b[38;5;28;01mraise\u001b[39;00m \u001b[38;5;167;01mKeyError\u001b[39;00m(key) \u001b[38;5;28;01mfrom\u001b[39;00m\u001b[38;5;250m \u001b[39m\u001b[38;5;21;01merr\u001b[39;00m\n\u001b[0;32m   3813\u001b[0m \u001b[38;5;28;01mexcept\u001b[39;00m \u001b[38;5;167;01mTypeError\u001b[39;00m:\n\u001b[0;32m   3814\u001b[0m     \u001b[38;5;66;03m# If we have a listlike key, _check_indexing_error will raise\u001b[39;00m\n\u001b[0;32m   3815\u001b[0m     \u001b[38;5;66;03m#  InvalidIndexError. Otherwise we fall through and re-raise\u001b[39;00m\n\u001b[0;32m   3816\u001b[0m     \u001b[38;5;66;03m#  the TypeError.\u001b[39;00m\n\u001b[0;32m   3817\u001b[0m     \u001b[38;5;28mself\u001b[39m\u001b[38;5;241m.\u001b[39m_check_indexing_error(key)\n",
      "\u001b[1;31mKeyError\u001b[0m: 'ma_san_pham'"
     ]
    }
   ],
   "source": [
    "# Example usage (make sure to use a valid ma_san_pham from your DataFrame)\n",
    "recommendations = get_recommendations(df, 190, cosine_sim=similarities, nums=3)\n",
    "recommendations"
   ]
  },
  {
   "cell_type": "code",
   "execution_count": null,
   "metadata": {},
   "outputs": [],
   "source": []
  }
 ],
 "metadata": {
  "colab": {
   "provenance": []
  },
  "kernelspec": {
   "display_name": "Python 3",
   "language": "python",
   "name": "python3"
  },
  "language_info": {
   "codemirror_mode": {
    "name": "ipython",
    "version": 3
   },
   "file_extension": ".py",
   "mimetype": "text/x-python",
   "name": "python",
   "nbconvert_exporter": "python",
   "pygments_lexer": "ipython3",
   "version": "3.10.0"
  }
 },
 "nbformat": 4,
 "nbformat_minor": 4
}
